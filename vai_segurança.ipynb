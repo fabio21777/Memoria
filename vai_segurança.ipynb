{
  "nbformat": 4,
  "nbformat_minor": 0,
  "metadata": {
    "colab": {
      "name": "vai segurança.ipynb",
      "provenance": [],
      "collapsed_sections": [],
      "include_colab_link": true
    },
    "kernelspec": {
      "name": "python2",
      "display_name": "Python 2"
    }
  },
  "cells": [
    {
      "cell_type": "markdown",
      "metadata": {
        "id": "view-in-github",
        "colab_type": "text"
      },
      "source": [
        "<a href=\"https://colab.research.google.com/github/fabio21777/Memoria/blob/master/vai_seguran%C3%A7a.ipynb\" target=\"_parent\"><img src=\"https://colab.research.google.com/assets/colab-badge.svg\" alt=\"Open In Colab\"/></a>"
      ]
    },
    {
      "cell_type": "code",
      "metadata": {
        "id": "V_TzGz3FzsmZ",
        "colab_type": "code",
        "outputId": "3ee4454b-3887-421b-eb82-b7a9419e17c7",
        "colab": {
          "base_uri": "https://localhost:8080/",
          "height": 125
        }
      },
      "source": [
        "pip install pycryptodome"
      ],
      "execution_count": 1,
      "outputs": [
        {
          "output_type": "stream",
          "text": [
            "Collecting pycryptodome\n",
            "\u001b[?25l  Downloading https://files.pythonhosted.org/packages/c1/45/47a2f5373ff04868e579a558d91d4405e8c4bc2b632da97cdcbda783936d/pycryptodome-3.9.0-cp27-cp27mu-manylinux1_x86_64.whl (9.7MB)\n",
            "\u001b[K     |████████████████████████████████| 9.7MB 2.5MB/s \n",
            "\u001b[?25hInstalling collected packages: pycryptodome\n",
            "Successfully installed pycryptodome-3.9.0\n"
          ],
          "name": "stdout"
        }
      ]
    },
    {
      "cell_type": "code",
      "metadata": {
        "id": "329wO_xFzuqf",
        "colab_type": "code",
        "outputId": "6463aec2-84e7-48a5-e906-72f5ad5b262a",
        "colab": {
          "base_uri": "https://localhost:8080/",
          "height": 125
        }
      },
      "source": [
        "pip install pycryptodomex"
      ],
      "execution_count": 2,
      "outputs": [
        {
          "output_type": "stream",
          "text": [
            "Collecting pycryptodomex\n",
            "\u001b[?25l  Downloading https://files.pythonhosted.org/packages/3f/26/afd527bdb09859ac20f8ecd4ae670fe6ddb59cd7b129f15d0f867177ad00/pycryptodomex-3.9.0-cp27-cp27mu-manylinux1_x86_64.whl (9.7MB)\n",
            "\u001b[K     |████████████████████████████████| 9.7MB 2.8MB/s \n",
            "\u001b[?25hInstalling collected packages: pycryptodomex\n",
            "Successfully installed pycryptodomex-3.9.0\n"
          ],
          "name": "stdout"
        }
      ]
    },
    {
      "cell_type": "code",
      "metadata": {
        "id": "ovT1DdZAz8wu",
        "colab_type": "code",
        "colab": {}
      },
      "source": [
        ""
      ],
      "execution_count": 0,
      "outputs": []
    },
    {
      "cell_type": "code",
      "metadata": {
        "id": "OyEozjg0DPm-",
        "colab_type": "code",
        "colab": {}
      },
      "source": [
        "from Crypto.Cipher import AES\n",
        "from Crypto.Hash import SHA512\n",
        "from Crypto.Random import get_random_bytes\n",
        "from Crypto.Protocol.KDF import PBKDF2\n",
        "from Crypto.Util.Padding import pad\n",
        "from Crypto.Util.Padding import unpad\n",
        "from Crypto.Cipher import DES3\n",
        "\n",
        "senha='123456'\n",
        "senha_da_chave=get_random_bytes(16)\n",
        "CHAVE=0\n",
        "vetor_inicializacao=0\n",
        "\n"
      ],
      "execution_count": 0,
      "outputs": []
    },
    {
      "cell_type": "code",
      "metadata": {
        "id": "HnYD__KVHmFM",
        "colab_type": "code",
        "colab": {}
      },
      "source": [
        "def gerar_chave(): \n",
        "  global senha\n",
        "  global senha_da_chave\n",
        "  global vetor_inicializacao\n",
        "  salt = get_random_bytes(16)\n",
        "  chave = PBKDF2(senha, salt,16,count=1000000, hmac_hash_module=SHA512)\n",
        "  print('chave',chave)\n",
        "  cifra=AES.new(senha_da_chave, AES.MODE_ECB)\n",
        "  texto_aberto=cifra.encrypt(chave)\n",
        "  print('vetor de inicializacao-->',salt)\n",
        "  vetor_inicializacao=cifra.encrypt(salt)\n",
        "  return(texto_aberto,vetor_inicializacao)"
      ],
      "execution_count": 0,
      "outputs": []
    },
    {
      "cell_type": "code",
      "metadata": {
        "id": "BUx3N49TNxYu",
        "colab_type": "code",
        "colab": {}
      },
      "source": [
        "def main():\n",
        "  global senha_da_chave \n",
        "  global senha\n",
        "  global CHAVE\n",
        "  global vetor_inicializacao\n",
        "  texto_aberto,vetor_inicializacao=gerar_chave()\n",
        "  cifra=AES.new(senha_da_chave, AES.MODE_ECB)\n",
        "  chave=cifra.decrypt(texto_aberto)\n",
        "  CHAVE=chave\n",
        "  vetor_inicializacao=cifra.decrypt(vetor_inicializacao)\n",
        "  print('vetor de inicializacao-->',vetor_inicializacao)\n",
        "  print('chave',chave)\n",
        "  texto='oi tudo bem'\n",
        "  cifra= AES.new(chave, AES.MODE_CBC,vetor_inicializacao)\n",
        "  texto_aberto= cifra.encrypt(pad(texto, AES.block_size))\n",
        "  print('testo cifrado',texto_aberto)\n",
        "  return(texto_aberto)\n",
        "  \n",
        "  \n",
        "  \n",
        "  \n",
        " \n",
        "\n",
        "\n",
        "\n",
        "\n",
        "\n"
      ],
      "execution_count": 0,
      "outputs": []
    },
    {
      "cell_type": "code",
      "metadata": {
        "id": "GBRBMNYxlCIW",
        "colab_type": "code",
        "outputId": "de1f7bfb-1528-4d5a-9419-2be6b52867e6",
        "colab": {
          "base_uri": "https://localhost:8080/",
          "height": 122
        }
      },
      "source": [
        "texto_aberto=main()\n",
        "cifra = AES.new(CHAVE, AES.MODE_CBC,vetor_inicializacao)\n",
        "TEXTO = unpad(cifra.decrypt(texto_aberto), AES.block_size)\n",
        "print('texto descriptgrafado',TEXTO)"
      ],
      "execution_count": 56,
      "outputs": [
        {
          "output_type": "stream",
          "text": [
            "('chave', '\\xd3$\\xc7r\\xeb\\xd0w\\x97,\\x9da\\xe4\\x83\\xa7\\x0c\\xa0')\n",
            "('vetor de inicializacao-->', '\\xd2\\x01\\x84\\xc8\\xdcz\\xd8_Z\\xf9\\x8d%\\xd0\\xc4]6')\n",
            "('vetor de inicializacao-->', '\\xd2\\x01\\x84\\xc8\\xdcz\\xd8_Z\\xf9\\x8d%\\xd0\\xc4]6')\n",
            "('chave', '\\xd3$\\xc7r\\xeb\\xd0w\\x97,\\x9da\\xe4\\x83\\xa7\\x0c\\xa0')\n",
            "('testo cifrado', '\\x86\\xb8\\xc8\\xd6\\x16D\\xfc\\x9d\\x1d\\x12f\\x02\\xd1s\\x13d')\n",
            "('texto descriptgrafado', 'oi tudo bem')\n"
          ],
          "name": "stdout"
        }
      ]
    },
    {
      "cell_type": "code",
      "metadata": {
        "id": "_7YMGvUq3vfc",
        "colab_type": "code",
        "colab": {}
      },
      "source": [
        "def triple_des():\n",
        "  vetor_inicializacao1=get_random_bytes(8)\n",
        "  while True:\n",
        "      try:\n",
        "          key = DES3.adjust_key_parity(get_random_bytes(24))\n",
        "          break\n",
        "      except ValueError:\n",
        "        pass\n",
        "\n",
        "  cifra = DES3.new(key, DES3.MODE_CBC,vetor_inicializacao1)\n",
        "  texto = 'OI TUDO BEM'\n",
        "  msg = cifra.encrypt(pad(texto, DES3.block_size))\n",
        "  return(msg,vetor_inicializacao1,key)"
      ],
      "execution_count": 0,
      "outputs": []
    },
    {
      "cell_type": "code",
      "metadata": {
        "id": "TEZwUODC4PJA",
        "colab_type": "code",
        "colab": {
          "base_uri": "https://localhost:8080/",
          "height": 52
        },
        "outputId": "33e69a6f-cae4-467c-80cb-76119622cfe2"
      },
      "source": [
        "texto_aberto,vetor,key=triple_des()\n",
        "cifra = DES3.new(key, DES3.MODE_CBC,vetor)\n",
        "print(texto_aberto)\n",
        "TEXTO = unpad(cifra.decrypt(texto_aberto),DES3.block_size)\n",
        "print(TEXTO)\n",
        "\n"
      ],
      "execution_count": 76,
      "outputs": [
        {
          "output_type": "stream",
          "text": [
            "\b�AؽS�2\u0001����d\n",
            "OI TUDO BEM\n"
          ],
          "name": "stdout"
        }
      ]
    },
    {
      "cell_type": "code",
      "metadata": {
        "id": "DYo0Id4L56mI",
        "colab_type": "code",
        "colab": {}
      },
      "source": [
        ""
      ],
      "execution_count": 0,
      "outputs": []
    }
  ]
}